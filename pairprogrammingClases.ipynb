{
 "cells": [
  {
   "cell_type": "markdown",
   "metadata": {},
   "source": [
    "# Pair programming Clases"
   ]
  },
  {
   "cell_type": "markdown",
   "metadata": {},
   "source": [
    "# EJERCICIO 1"
   ]
  },
  {
   "cell_type": "markdown",
   "metadata": {},
   "source": [
    "En este ejercicio de pair programming, vamos a crear una clase para gestionar la información de los empleados de nuestra empresa.\n",
    "\n",
    "Siguiendo las indicaciones del jefe, necesitamos organizar los datos de cada empleado de manera más estructurada.\n",
    "\n",
    "La clase Empleados permite gestionar información relacionada con los empleados de una empresa, con las siguientes características:\n",
    "\n",
    "a)  Debes crear una clase llamada \"Empleados\" que tenga los siguientes atributos: nombre, apellidos, edad, posicion, año , vacaciones(cantidad de días de vacaciones que le quedan al empleado) y herramientas.\n",
    "\n",
    "b) El constructor __init__ debe recibir estos atributos como parámetros y asignarlos a los respectivos atributos de la clase.\n",
    "\n",
    "c) Los atributos representan la información personal y profesional de un empleado, como su nombre completo, edad, posición en la empresa, año de ingreso, días de vacaciones disponibles y una lista de herramientas que el empleado sabe utilizar."
   ]
  },
  {
   "cell_type": "markdown",
   "metadata": {},
   "source": [
    "    Los métodos que debe recibir esta clase son:"
   ]
  },
  {
   "cell_type": "markdown",
   "metadata": {},
   "source": [
    "    1.1 Método descripcion: \n",
    "\n",
    "Proporciona una descripción del empleado, incluyendo su nombre, posición en la empresa, y la cantidad de días de vacaciones que le quedan para el año actual. \n",
    "\n",
    "Los pasos para resolver el ejercicio del método descripcion son:\n",
    "\n",
    " 1. Utilizar F-Strings: Utiliza f-strings para construir la descripción del empleado de manera legible y eficiente.\n",
    "\n",
    " 2. Especificar los Atributos a Incluir: Determina cuáles de los atributos del empleado se deben incluir en la descripción. Los atributos necesarios son nombre, posicion, año, y vacaciones.\n",
    "\n",
    " 3. Concatenar los Atributos: Usar f-strings para concatenar los atributos seleccionados y crear una descripción coherente."
   ]
  },
  {
   "cell_type": "markdown",
   "metadata": {},
   "source": [
    "    1.2 Método cambiando_posicion:\n",
    "\n",
    "Verifica las herramientas que el empleado tiene en su lista y devuelve un mensaje específico basado en las herramientas.\n",
    "Puede elogiar al empleado si tiene \"Python\" en su lista o sugerirle que deje de usar \"Excel\" y aprenda Python. \n",
    "\n",
    "Los pasos para resolver este ejercicio son:\n",
    "\n",
    " 1. Iterar a través de las Herramientas: La función debe recorrer la lista de herramientas (self.herramientas) del empleado.\n",
    "\n",
    " 2. Evaluar Cada Herramienta: Para cada herramienta en la lista, verifica si es igual a \"Python\" o \"Excel\" (en minúsculas)."
   ]
  },
  {
   "cell_type": "markdown",
   "metadata": {},
   "source": [
    "    1.3 Método calcular_antiguedad:\n",
    "    \n",
    "Calcula la antigüedad del empleado en años y meses desde el año de ingreso hasta la fecha actual.\n",
    "\n",
    "1. Calcular la Antigüedad en Años y Meses: Utiliza el módulo datetime de Python para obtener el año actual y el mes actual.\n",
    "\n",
    "2. Generar el Mensaje de Antigüedad: Usa los valores calculados para años y meses de antigüedad para generar un mensaje descriptivo. Por ejemplo, \"Juan lleva 5 años y 3 meses en la empresa\"."
   ]
  },
  {
   "cell_type": "markdown",
   "metadata": {},
   "source": [
    "    1. 4 Método solicitar_aumento_vacaciones: \n",
    "\n",
    "Permite al empleado solicitar un aumento en la cantidad de días de vacaciones.\n",
    "\n",
    "Si la solicitud es válida (es decir, se solicitan días positivos), actualiza los días de vacaciones del empleado y devuelve un mensaje de confirmación. \n",
    "\n",
    "Recibirá un parámetro dias_solicitados, que corresponderá con el número de días de vacaciones que quiere solicitar.\n",
    "\n",
    "1. Validar los Días Solicitados: Utiliza una estructura de control para verificar si la cantidad de días solicitados (dias_solicitados) es mayor que cero. Esto garantiza que solo se procesen solicitudes de aumento válidas.\n",
    "\n",
    "2. Actualizar los Días de Vacaciones: Si la solicitud es válida, aumenta la cantidad de días de vacaciones del empleado (self.vacaciones) sumando la cantidad de días solicitados.\n",
    "\n",
    "3. Generar un Mensaje de Confirmación: Crea un mensaje informativo que confirme la aprobación de la solicitud y muestre la cantidad actualizada de días de vacaciones del empleado.\n",
    "\n",
    "4. Manejar Solicitudes No Válidas: Si la solicitud no es válida (es decir, dias_solicitados es menor o igual a cero), generar un mensaje de error que indique que la solicitud debe ser un número positivo."
   ]
  },
  {
   "cell_type": "markdown",
   "metadata": {},
   "source": [
    "    1.5. Método registrar_herramienta:\n",
    "\n",
    "Permite al empleado registrar una nueva herramienta en su lista de habilidades.\n",
    "\n",
    "La herramienta se registra si no está registrada previamente en la lista de herramientas del empleado.\n",
    "\n",
    "Recibirá un parámetro que será la nueva herramienta.\n",
    "\n",
    "1. Validar la Nueva Herramienta: Utiliza una estructura de control para verificar si la nueva herramienta no está en la lista de herramientas existentes.\n",
    "\n",
    "2. Agregar la Nueva Herramienta: Si la nueva herramienta no está en la lista existente, agregarla a la lista.\n",
    "\n",
    "3. Generar un Mensaje de Confirmación: Crea un mensaje informativo que confirme el registro exitoso de la nueva herramienta y muestre el nombre de la herramienta registrada.\n",
    "\n",
    "4. Manejar Herramientas Duplicadas: Si la nueva herramienta ya existe en la lista, genera un mensaje que indique que la herramienta ya ha sido registrada previamente."
   ]
  },
  {
   "cell_type": "markdown",
   "metadata": {},
   "source": [
    "    1.6. Método cambiar_posicion:\n",
    "\n",
    "Permite al empleado cambiar su posición y salario en la empresa.\n",
    "\n",
    "Actualiza la posición y el salario y devuelve un mensaje de felicitación.\n",
    "\n",
    "Recibirá dos parámetros, la nueva posición y el nuevo salario.\n",
    "\n",
    "1. Actualizar la Posición y el Salario: Utiliza los parámetros nueva_posicion y nuevo_salario para actualizar la posición y el salario del empleado.\n",
    "\n",
    "2. Generar un Mensaje de Confirmación: Crea un mensaje informativo que confirme el cambio de posición y salario del empleado y muestre el nombre del empleado, la nueva posición y el nuevo salario."
   ]
  },
  {
   "cell_type": "markdown",
   "metadata": {},
   "source": [
    "    1.7 Método tomar_vacaciones:\n",
    "\n",
    "Permite al empleado tomar días de vacaciones, solicitando la cantidad deseada y actualizando los días de vacaciones restantes. \n",
    "\n",
    "Verifica que se solicite al menos un día de vacaciones y que el empleado tenga suficientes días disponibles.\n",
    "\n",
    "No recibe ningún parámetro adicional.\n",
    "\n",
    "1. Solicitar la Cantidad de Días de Vacaciones: \n",
    "\n",
    "Usar la función input para solicitar al usuario la cantidad de días de vacaciones que desea tomar.\n",
    "\n",
    "2. Validar la Cantidad de Días:\n",
    "\n",
    "Comprueba que la cantidad de días solicitados sea mayor que cero. \n",
    "\n",
    "Si el usuario ingresa un valor no válido (cero o negativo), muestra un mensaje de error y solicita nuevamente la cantidad de días hasta que sea válida.\n",
    "\n",
    "3. Verificar Disponibilidad de Días de Vacaciones:\n",
    "\n",
    "Comprueba si la cantidad de días solicitados es menor o igual a la cantidad de días de vacaciones disponibles para el empleado.\n",
    "\n",
    "4. Actualizar Días de Vacaciones:\n",
    "\n",
    "Si hay suficientes días de vacaciones disponibles, modifica el código para que se modifiquen los días de vacaciones que le quedan. Si no hay suficientes días disponibles, mostrar un mensaje de error.\n",
    "\n",
    "5. Generar un Mensaje de Confirmación o Error:\n",
    "\n",
    "Dependiendo de si la solicitud se procesó con éxito o no, genera un mensaje que informe al empleado sobre el resultado de su solicitud."
   ]
  },
  {
   "cell_type": "markdown",
   "metadata": {},
   "source": [
    "    1.8. Método solicitar_aumento_salario:\n",
    "\n",
    "Permite al empleado solicitar un aumento de salario en porcentaje y calcula el nuevo salario.\n",
    "\n",
    "Verifica que el aumento sea un valor positivo o igual a cero. Este método no recibe ningún parámetro.\n",
    "\n",
    "1. Solicitar el Porcentaje de Aumento de Salario: \n",
    "\n",
    "Utiliza la función input para solicitar al usuario el porcentaje de aumento de salario que desea. \n",
    "\n",
    "Asegurate de que el valor ingresado sea un número decimal.\n",
    "\n",
    "2. Validar el Porcentaje de Aumento:\n",
    "\n",
    "Utiliza un bucle while para garantizar que el porcentaje de aumento sea mayor o igual a cero.\n",
    "\n",
    "Si el usuario ingresa un valor no válido (negativo), muestra un mensaje de error y solicita nuevamente el porcentaje hasta que sea válido.\n",
    "\n",
    "3. Calcular el Nuevo Salario:\n",
    "\n",
    "Calcula el nuevo salario.\n",
    "\n",
    "Generar un Mensaje de Confirmación: Crea un mensaje que informe al empleado sobre el resultado de su solicitud. Incluye el nuevo salario calculado en el mensaje.\n",
    "\n",
    "Manejar Errores de Entrada: Utiliza un bloque try...except para manejar posibles errores de entrada, como cuando el usuario ingresa un valor que no se puede convertir a un número decimal."
   ]
  },
  {
   "cell_type": "markdown",
   "metadata": {},
   "source": [
    "    1.9. Método realizar_evaluacion:\n",
    "\n",
    "Permite al empleado recibir una calificación de desempeño, con opciones como \"Excelente\", \"Bueno\", \"Regular\" o \"Malo\". \n",
    "\n",
    "Verifica que la calificación ingresada sea válida. Este método no recibe ningún parámetro.\n",
    "\n",
    "1. Solicitar la Calificación del Desempeño:\n",
    "\n",
    "Utiliza la función input para solicitar al usuario que califique su propio desempeño.\n",
    "\n",
    "Asegurate de que el valor ingresado sea una de las opciones válidas: \"excelente\", \"bueno\", \"regular\" o \"malo\".\n",
    "\n",
    "2. Validar la Calificación: Utiliza un bucle while para garantizar que la calificación ingresada sea una de las opciones válidas. Si el usuario ingresa una calificación no válida, muestra un mensaje de error y solicita nuevamente la calificación hasta que sea válida.\n",
    "\n",
    "Generar un Mensaje de Retroalimentación: Crear un mensaje que proporcione retroalimentación al empleado basada en la calificación ingresada.\n",
    "\n",
    "Retornar el Mensaje Generado: La función debe incluir una instrucción return que devuelva el mensaje generado."
   ]
  },
  {
   "cell_type": "markdown",
   "metadata": {},
   "source": [
    "# EJERCICIO 2"
   ]
  },
  {
   "cell_type": "markdown",
   "metadata": {},
   "source": [
    "En este ejercicio, se te pide crear una herencia de la clase creada en el ejercicio anterior.\n",
    "\n",
    "Esta clase hija se llama \"Gerente\" que hereda de la clase creada en el ejercicio anterior.\n",
    "\n",
    "Las instrucciones para crear esta clase son:\n",
    "\n",
    "1. Crea la clase derivada \"Gerente\" que hereda de la clase \"Empleados\".\n",
    "\n",
    "Esta clase debe tener los siguientes atributos en su constructor además de los heredados de \"Empleados\":\n",
    "           \n",
    "   - departamento (str): El departamento al que está asignado el gerente.\n",
    "   - empleados_a_cargo (list): Una lista que contiene los nombres de los empleados que están a cargo del gerente.\n",
    "\n",
    "Implementa los siguientes métodos en la clase \"Gerente\":\n",
    "\n",
    "    1. Asignar_tareas(tarea, empleado):\n",
    "    \n",
    "Este método debe recibir el nombre de una tarea y el nombre de un empleado y debe devolver una cadena que indique que el gerente ha asignado la tarea a ese empleado.\n",
    "\n",
    "    2. Revisar_desempeno_empleado(empleado): \n",
    "\n",
    "Este método debe recibir el nombre de un empleado y debe devolver una cadena que indique que el gerente está revisando el desempeño de ese empleado.\n",
    "\n",
    "    3. Gestionar_empleados(accion, empleado):\n",
    "\n",
    "Este método permite al gerente realizar acciones de contratación o despido de empleados a cargo. \n",
    "\n",
    "    4. Debe recibir una acción (\"contratar\" o \"despedir\") y el nombre de un empleado. \n",
    "\n",
    "a) Si la acción es \"contratar\", agrega al empleado a la lista de empleados a cargo y devuelve un mensaje indicando que el empleado ha sido contratado por el gerente. \n",
    "\n",
    "b) Si la acción es \"despedir\" y el empleado está en la lista de empleados a cargo, lo elimina y devuelve un mensaje de despido. Si la acción no es válida, devuelve un mensaje indicando que la acción no es válida."
   ]
  }
 ],
 "metadata": {
  "kernelspec": {
   "display_name": "base",
   "language": "python",
   "name": "python3"
  },
  "language_info": {
   "name": "python",
   "version": "3.9.7"
  }
 },
 "nbformat": 4,
 "nbformat_minor": 2
}
